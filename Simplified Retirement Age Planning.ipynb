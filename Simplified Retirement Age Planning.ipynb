{
 "cells": [
  {
   "cell_type": "markdown",
   "metadata": {
    "id": "DPJvfxAEWdMC"
   },
   "source": [
    "# *Simulation Project*"
   ]
  },
  {
   "cell_type": "markdown",
   "metadata": {
    "id": "2tcA8fRZJsnH"
   },
   "source": [
    "This program simulates portfolio survival rates for retirement planning using Monte Carlo methods. It models life expectancy based on actuarial data, incorporates investment returns, adjusts for inflation, and calculates the years required to achieve specific uncertainty levels for retirement."
   ]
  },
  {
   "cell_type": "markdown",
   "metadata": {
    "id": "ZSQDXqfzwvZ6"
   },
   "source": [
    "## **1. Importing packages**"
   ]
  },
  {
   "cell_type": "code",
   "execution_count": 1,
   "metadata": {
    "id": "prWh4A79w4MP"
   },
   "outputs": [],
   "source": [
    "import numpy as np # Provides support for large arrays with mathematical functions to operate on them.\n",
    "import matplotlib.pyplot as plt # Used for visualizing graphic between uncertainty and years worked\n",
    "import yfinance as yf # To obtain financial data directly from Yahoo Finance (S&P 500 prices)"
   ]
  },
  {
   "cell_type": "markdown",
   "metadata": {
    "id": "n0_r2BQ0w6tm"
   },
   "source": [
    "## **2. Initial parameters**"
   ]
  },
  {
   "cell_type": "code",
   "execution_count": 21,
   "metadata": {
    "id": "IC7AYO4ixAh8"
   },
   "outputs": [],
   "source": [
    "# These parameters define the initial setup for the simulation\n",
    "starting_age = 55 # The distant relative's age\n",
    "starting_wealth = 200000 # Initial portfolio wealth in dollars.\n",
    "savings_rate = 24000 # Annual savings in dollars before retirement.\n",
    "withdrawal_rate = 30000 # Annual withdrawal in dollars after retirement.\n",
    "inflation_rate = 0.025 # Annual inflation rate.\n",
    "max_age = 120 # Maximum age considered in the simulation.\n",
    "simulations = 100000 # Number of simulations to run.\n",
    "uncertainty_level = 0.05 # Desired uncertainty level. Defines the risk tolerance."
   ]
  },
  {
   "cell_type": "markdown",
   "metadata": {
    "id": "Pal2WA34xL8O"
   },
   "source": [
    "## **3. Death probabilities - Lifetime consideration**\n",
    "\n",
    "Data according to Social Security Administration of the United States of America, for the ages of 0 to 119 for males in the USA (Source: https://www.ssa.gov/oact/STATS/table4c6.html). Death probabilities have been extracted for each age (55 to 120) based on actuarial life table (https://www.ssa.gov/oact/STATS/table4c6.html)\n",
    "\n",
    "**Assumption:** This relative person lives in the United States of America."
   ]
  },
  {
   "cell_type": "code",
   "execution_count": 23,
   "metadata": {
    "id": "aduXUlcMxbca"
   },
   "outputs": [],
   "source": [
    "death_probabilities = [\n",
    "    0.009770, 0.010567, 0.011398, 0.012291, 0.013224, 0.014267, 0.015353, 0.016484, 0.017617, 0.018759,\n",
    "    0.019914, 0.021104, 0.022423, 0.023847, 0.025357, 0.027050, 0.028970, 0.031188, 0.033754, 0.036747,\n",
    "    0.040563, 0.044308, 0.048498, 0.053229, 0.058778, 0.064617, 0.070947, 0.077834, 0.085686, 0.094809,\n",
    "    0.105090, 0.116592, 0.129306, 0.142732, 0.157638, 0.174458, 0.193027, 0.212930, 0.232657, 0.251826,\n",
    "    0.270943, 0.289756, 0.307998, 0.325393, 0.341662, 0.358746, 0.376683, 0.395517, 0.415293, 0.436058,\n",
    "    0.457860, 0.480753, 0.504791, 0.530031, 0.556532, 0.584359, 0.613577, 0.644256, 0.676468, 0.710292,\n",
    "    0.745806, 0.783097, 0.822251, 0.863364, 0.906532, 1.0\n",
    "]\n",
    "\n",
    "# Corresponding ages (55 to 120)\n",
    "ages = list(range(55, 121))"
   ]
  },
  {
   "cell_type": "markdown",
   "metadata": {
    "id": "nZIuqTffMOjL"
   },
   "source": [
    "## **4. Determining the Death Age**\n",
    "\n",
    "This block determines the death age for each simulation by comparing randomly generated numbers against the annual probability of death.\r\n",
    "\r\n",
    "It is intended that for each year (starting at 55), a new random number is generated for every simulation. Then, this random number is compared against the death probability for the current age.\r\n",
    "\r\n",
    "If the random number is greater than the death probability for the current age, the simulation \"survives\" to the next year. Subsequently, another different random number is generated for the nex year to compare with the corresponding death probability. The random number generation stops when it is less than or equal to the death probability, then the simulation is marked as \"dead\",and the death age is assigned."
   ]
  },
  {
   "cell_type": "code",
   "execution_count": 26,
   "metadata": {
    "id": "GS3AIo0ayC12"
   },
   "outputs": [],
   "source": [
    "def determine_age_of_death(simulations):\n",
    "    # This function initializes an array death_ages for all simulations,filled with max_age value.\n",
    "    # This means that if no death occurs earlier, the simulation assumes the maximum lifespan.\n",
    "    death_ages = np.full(simulations, max_age, dtype=int)\n",
    "\n",
    "    # Boolean array alive is created to track which simulations are still \"alive.\" All simulations start alive (True).\n",
    "    # As the function iterates through each age, this array will be updated to mark simulations that have \"died\"(False)\n",
    "    alive = np.ones(simulations, dtype=bool)\n",
    "\n",
    "    # The function iterates through each age sequentially.\n",
    "    for current_age in ages:\n",
    "        # Generate random numbers for all alive simulations from 0 to 1\n",
    "        # By using the uniform distribution, fairness and randomness in simulating mortality are guaranteed across all simulations.\n",
    "        random_numbers = np.random.uniform(0, 1, simulations)\n",
    "\n",
    "        # This line checks if each random number is less than or equal to the death probability for the current age\n",
    "        # The [current_age - starting_age] maps the current_age to the correct index in the death_probabilities list.\n",
    "        # With \"& alive\" dead simulations are ignored in iterations.\n",
    "        deaths = (random_numbers <= death_probabilities[current_age - starting_age]) & alive\n",
    "        death_ages[deaths] = current_age  # Assign death age in the simulation and replace previous value (max_age)\n",
    "        alive[deaths] = False  # Mark these simulations as \"died\" once the death age is designed\n",
    "\n",
    "        # If all simulations have died, stop early\n",
    "        if not np.any(alive):\n",
    "            break\n",
    "    # This line outputs the calculated ages of death\n",
    "    return death_ages"
   ]
  },
  {
   "cell_type": "markdown",
   "metadata": {
    "id": "qaTWVzMEyRTT"
   },
   "source": [
    "## **5. S&P500 ETF average return and standard deviation estimation**\n",
    "\n",
    "The average annual return and standard deviation is estimated based on historical data obtained using the yfinance package, which provides records of the S&P 500 index dating back to 1927. As the ETF closely tracks the performance of the S&P500, its value is expected to fluctuate in line with the index.\n",
    "\n",
    "This dataset is considered the most realistic for our model as it reflects a broad range of external events and economic fluctuations that have influenced the market over time, factors that are likely to continue shaping the market in the future. (Source: https://finance.yahoo.com/quote/%5EGSPC/history/?period1=-1325583000&period2=1736689887)"
   ]
  },
  {
   "cell_type": "code",
   "execution_count": 32,
   "metadata": {
    "id": "85CUBhAayQm4"
   },
   "outputs": [],
   "source": [
    "# get_sp500_stats() retrieves historical price data for the S&P 500 index from Yahoo Finance\n",
    "def get_sp500_stats():\n",
    "    # Historic data from SP500\n",
    "    sp500 = yf.Ticker(\"^GSPC\")\n",
    "    data = sp500.history(period=\"max\")\n",
    "    # Check for valid close values\n",
    "    data = data.dropna(subset=[\"Close\"])\n",
    "    # Calculate daily return averages\n",
    "    data[\"Daily Return\"] = data[\"Close\"].pct_change()\n",
    "    mean_daily_return = data[\"Daily Return\"].mean()\n",
    "    std_daily_return = data[\"Daily Return\"].std()\n",
    "    # Converting daily return into annual return\n",
    "    mean_annual_return = (1 + mean_daily_return)**252 - 1\n",
    "    std_annual_return = std_daily_return * np.sqrt(252)\n",
    "    return mean_annual_return, std_annual_return\n",
    "\n",
    "mean_return, std_dev = get_sp500_stats()\n",
    "# mean_return represents the average annual growth rate of the portfolio based on historical data.\n",
    "# std_dev represents the volatility (risk) of annual returns, introducing randomness to the simulation.\n",
    "# Both are used to simulate realistic investment returns."
   ]
  },
  {
   "cell_type": "markdown",
   "metadata": {
    "id": "oWlnLKsozWNo"
   },
   "source": [
    "## **6. Simulation**\n",
    "\n",
    "This block simulates the financial evolution of a portfolio for multiple simulations from the starting age until the age of death."
   ]
  },
  {
   "cell_type": "code",
   "execution_count": 34,
   "metadata": {
    "colab": {
     "base_uri": "https://localhost:8080/"
    },
    "id": "ni8PuwqmzY_c",
    "outputId": "318f712a-e58b-4040-bdd3-e88ab6926b6b"
   },
   "outputs": [
    {
     "name": "stdout",
     "output_type": "stream",
     "text": [
      "For an uncertainty level of 5.0%, the relative needs to work 15 additional years.\n"
     ]
    }
   ],
   "source": [
    "def simulate_portfolio(retirement_age, simulations):\n",
    "\n",
    "    # The array is filled with the initial wealth (starting_wealth).\n",
    "    portfolios = np.full(simulations, starting_wealth, dtype=np.float64)\n",
    "\n",
    "    # This initializes annual withdrawals for all simulations, starting with the initial withdrawal rate.\n",
    "    # The array tracks annual withdrawals, adjusted for inflation as the simulation progresses.\n",
    "    inflation_adjusted_withdrawals = np.full(simulations, withdrawal_rate, dtype=np.float64)\n",
    "\n",
    "    # This determines the simulated age of death using the previous function.\n",
    "    death_ages = determine_age_of_death(simulations)\n",
    "    alive = np.ones(simulations, dtype=bool)  # All simulations start as alive\n",
    "\n",
    "    # This is a loop that iterates through every age, starting from starting_age (55) up to max_age (120).\n",
    "    for current_age in range(starting_age, max_age + 1):\n",
    "        # Explicitly mark simulations that have passed their age of death as \"dead\"\n",
    "        alive[current_age > np.array(death_ages)] = False\n",
    "\n",
    "        # Adds annual savings(savings_rate) to portfolios for individuals who are still working and alive.\n",
    "        if current_age < retirement_age:\n",
    "            portfolios[alive] += savings_rate\n",
    "\n",
    "        # This block is executed when current_age >= retirement_age, meaning the individual is in their retirement phase.\n",
    "        # Deducts inflation-adjusted withdrawals from the portfolio for alive individuals in retirement.\n",
    "        # Updates withdrawal amounts to account for inflation.\n",
    "        else:\n",
    "            portfolios[alive] -= inflation_adjusted_withdrawals[alive]\n",
    "            inflation_adjusted_withdrawals[alive] *= (1 + inflation_rate)\n",
    "\n",
    "        # Generate a random set of annual returns using previous generated mean_return and std_dev values.\n",
    "        # Apply these returns to increase the value of portfolios that are still active.\n",
    "        annual_returns = np.random.normal(mean_return, std_dev, simulations)\n",
    "        portfolios[alive] *= (1 + annual_returns[alive])\n",
    "\n",
    "        # This line sets portfolios with zero or negative value to exactly zero to avoid negative wealth.\n",
    "        portfolios[portfolios <= 0] = 0\n",
    "\n",
    "        # Mark simulations with zero or negative portfolio values as no longer \"alive.\"\n",
    "        alive[portfolios <= 0] = False\n",
    "\n",
    "    # Count and return the number of simulations with positive portfolio balances.\n",
    "    return np.sum(portfolios > 0)\n",
    "\n",
    "# Runs a portfolio simulation multiple times to assess financial sustainability during retirement.\n",
    "# Calculates the fraction of simulations that maintain positive wealth.\n",
    "def monte_carlo_simulation(retirement_age):\n",
    "    return simulate_portfolio(retirement_age, simulations) / simulations\n",
    "\n",
    "# The first line sets the percentage of simulations required for success\n",
    "# \"years_worked_for_target\" is a variable to store the calculated number of years to meet the target certainty\n",
    "target_certainty = 1 - uncertainty_level\n",
    "years_worked_for_target = None\n",
    "\n",
    "# This loop evaluates each potential retirement age to determine when the target certainty level is met.\n",
    "# Each possible retirement age in the range from 55 to 120 (as defined by retirement_ages).\n",
    "for retirement_age in ages:\n",
    "    success_rate = monte_carlo_simulation(retirement_age) # Calculates the proportion of successful outcomes\n",
    "    if success_rate >= target_certainty: # Checks if the computed success rate meets or exceeds the target certainty level\n",
    "        years_worked_for_target = retirement_age - starting_age # Subtracts the starting_age (55) from the current retirement_age\n",
    "        break #Exits the loop once a retirement age is found\n",
    "\n",
    "print(f\"For an uncertainty level of {uncertainty_level * 100:.1f}%, the relative needs to work {years_worked_for_target} additional years.\")"
   ]
  },
  {
   "cell_type": "markdown",
   "metadata": {
    "id": "Vyq1qIJ5zgAn"
   },
   "source": [
    "## **7. Graph**"
   ]
  },
  {
   "cell_type": "code",
   "execution_count": 36,
   "metadata": {
    "colab": {
     "base_uri": "https://localhost:8080/",
     "height": 564
    },
    "id": "sHU3FGQqzlxY",
    "outputId": "71ddcf68-b06e-43f7-a40a-fef34fe52fe0"
   },
   "outputs": [
    {
     "data": {
      "image/png": "[encoded data removed]",
      "text/plain": [
       "<Figure size 800x600 with 1 Axes>"
      ]
     },
     "metadata": {},
     "output_type": "display_data"
    }
   ],
   "source": [
    "# Generate the full graph for all uncertainty levels\n",
    "certainty_levels = np.linspace(0.80, 0.99, 20)  # Certainty levels: 80% to 99%\n",
    "uncertainty_levels = 1 - certainty_levels  # Uncertainty levels: 20% to 1%\n",
    "years_worked = []  # Store years worked for each uncertainty level\n",
    "\n",
    "retirement_ages = range(starting_age, max_age + 1)\n",
    "\n",
    "for certainty in certainty_levels:\n",
    "    found = False  # Flag to track if a value was found\n",
    "    for retirement_age in retirement_ages:\n",
    "        success_rate = monte_carlo_simulation(retirement_age)\n",
    "        if success_rate >= certainty:  # Meets the certainty level\n",
    "            years_worked.append(retirement_age - starting_age)  # Calculate years worked\n",
    "            found = True\n",
    "            break\n",
    "    if not found:\n",
    "        years_worked.append(None)  # Add None if no valid retirement age was found\n",
    "\n",
    "# Plot the relationship between uncertainty and years worked\n",
    "plt.figure(figsize=(8, 6))\n",
    "plt.step(uncertainty_levels, years_worked, where='post')\n",
    "plt.xlabel('Uncertainty')\n",
    "plt.ylabel('Years Worked')\n",
    "plt.title('Relationship between Uncertainty and Years Worked (Step Plot)')\n",
    "plt.grid()\n",
    "plt.show()"
   ]
  },
  {
   "cell_type": "markdown",
   "metadata": {
    "id": "Ro7eawM_HuO_"
   },
   "source": [
    "## **8. Conclusions**"
   ]
  },
  {
   "cell_type": "markdown",
   "metadata": {
    "id": "njoiN7PRH0me"
   },
   "source": [
    "First Conclusion\n",
    "\n",
    "The relative would need to work an additional 15 years to ensure that the probability of running out of money remains below 5%. Considering the level of uncertainty he wishes to account for, he can be classified as risk-averse. In contrast, a risk-neutral individual would likely require fewer years to save enough, as they would rely on ETF interest exceeding their annual withdrawals sooner. Additionally, if market performance is exceptionally strong in the early years of the simulation, it may indicate a higher likelihood of earlier retirement, demonstrating how the model adapts dynamically to financial conditions.\n",
    "\n",
    "If he wishes to retire sooner due to dissatisfaction with his current job, there are several alternatives to consider. For example, he could increase annual savings invested in ETFs by reducing current consumption, lower his future withdrawal amounts to account for higher uncertainty, choose riskier investments with potentially higher returns to achieve his goal faster, or relocate to a more affordable area to reduce living expenses, among other strategies.\n",
    "\n",
    "It is important to note that the model has certain limitations in real-world applications. Past returns cannot reliably predict future performance, as many factors, such as domestic and international political developments, wars, climate change, global disasters like COVID-19, and technological advancements can significantly impact returns in the years ahead."
   ]
  },
  {
   "cell_type": "markdown",
   "metadata": {
    "id": "l24sM2ylRrBi"
   },
   "source": [
    "Second Conclusion\n",
    "\n",
    "This model enhances unpredictability by assigning random ages in each simulation and continuously comparing new random numbers against age-specific death probabilities. This dynamic process avoids fixed age assignments at the start of the simulation, allowing for greater variability throughout. Taking into account the law of large numbers—which states that as the number of trials increases, the sample mean converges to the expected value—this approach provides a reasonable approximation of real-world averages, offering insights for retirement planning, though it does not fully replicate reality.\n",
    "\n",
    "As no specific information was available regarding the health condition of the relative, the simulation assumes the characteristics of an average man at age 55, even though the relative’s actual life expectancy could be better or worse depending on individual health factors. "
   ]
  },
  {
   "cell_type": "markdown",
   "metadata": {},
   "source": [
    "Third Conclusion\n",
    "\n",
    "A deterministic approach was initially attempted, where fixed death ages were assigned proportionally across simulations, resulting in a more rigid and conservative estimate of 24 years for 5% uncertainty. However, this method assumes outcomes that may not fully reflect real-life variability. The method used in our final model dynamically assigns death ages based on random outcomes, capturing life’s unpredictability more effectively. This leads to a shorter estimate of 15 years for 5% uncertainty, accounting for realistic variations in lifespan and financial conditions, and providing a less conservative yet more adaptable result."
   ]
  },
  {
   "cell_type": "code",
   "execution_count": null,
   "metadata": {},
   "outputs": [],
   "source": []
  }
 ],
 "metadata": {
  "colab": {
   "provenance": [],
   "toc_visible": true
  },
  "kernelspec": {
   "display_name": "Python 3 (ipykernel)",
   "language": "python",
   "name": "python3"
  },
  "language_info": {
   "codemirror_mode": {
    "name": "ipython",
    "version": 3
   },
   "file_extension": ".py",
   "mimetype": "text/x-python",
   "name": "python",
   "nbconvert_exporter": "python",
   "pygments_lexer": "ipython3",
   "version": "3.12.4"
  }
 },
 "nbformat": 4,
 "nbformat_minor": 4
}
